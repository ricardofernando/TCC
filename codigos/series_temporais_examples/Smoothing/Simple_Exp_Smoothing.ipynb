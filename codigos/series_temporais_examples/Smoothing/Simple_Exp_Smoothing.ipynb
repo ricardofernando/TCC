{
 "cells": [
  {
   "cell_type": "code",
   "execution_count": 23,
   "metadata": {},
   "outputs": [],
   "source": [
    "from statsmodels.tsa.api import SimpleExpSmoothing\n",
    "import pandas as pd\n",
    "import numpy as np\n",
    "from sklearn import metrics\n",
    "\n",
    "from IPython.display import display, Markdown\n",
    "\n",
    "\n",
    "def timeseries_evaluation_metrics_func(y_true, y_pred):\n",
    "\n",
    "    def mean_absolute_percentage_error(y_true, y_pred):\n",
    "        return np.mean(np.abs((y_true-y_pred)/y_true)) * 100\n",
    "    \n",
    "    print(f'Mean Squared Error (MSE) is : {metrics.mean_squared_error(y_true,y_pred)}')\n",
    "\n",
    "    print(f'Mean Absolute Error (MAE) is : {metrics.mean_absolute_error(y_true,y_pred)}')\n",
    "\n",
    "    print(f'Root Mean Squared Error (MAE) is : {np.sqrt(metrics.mean_squared_error(y_true,y_pred))}')\n",
    "\n",
    "    print(f'Coefficient of determination R^2 is : {metrics.r2_score(y_true,y_pred)}', end = '\\n\\n')\n",
    "\n",
    "    return"
   ]
  },
  {
   "cell_type": "code",
   "execution_count": 26,
   "metadata": {},
   "outputs": [
    {
     "data": {
      "text/html": [
       "<div>\n",
       "<style scoped>\n",
       "    .dataframe tbody tr th:only-of-type {\n",
       "        vertical-align: middle;\n",
       "    }\n",
       "\n",
       "    .dataframe tbody tr th {\n",
       "        vertical-align: top;\n",
       "    }\n",
       "\n",
       "    .dataframe thead th {\n",
       "        text-align: right;\n",
       "    }\n",
       "</style>\n",
       "<table border=\"1\" class=\"dataframe\">\n",
       "  <thead>\n",
       "    <tr style=\"text-align: right;\">\n",
       "      <th></th>\n",
       "      <th>Date</th>\n",
       "      <th>Open</th>\n",
       "      <th>High</th>\n",
       "      <th>Low</th>\n",
       "      <th>Close</th>\n",
       "      <th>Adj Close</th>\n",
       "      <th>Volume</th>\n",
       "    </tr>\n",
       "  </thead>\n",
       "  <tbody>\n",
       "    <tr>\n",
       "      <th>247</th>\n",
       "      <td>2019-05-17</td>\n",
       "      <td>184.839996</td>\n",
       "      <td>187.580002</td>\n",
       "      <td>184.279999</td>\n",
       "      <td>185.300003</td>\n",
       "      <td>185.300003</td>\n",
       "      <td>10485400</td>\n",
       "    </tr>\n",
       "    <tr>\n",
       "      <th>248</th>\n",
       "      <td>2019-05-20</td>\n",
       "      <td>181.880005</td>\n",
       "      <td>184.229996</td>\n",
       "      <td>181.369995</td>\n",
       "      <td>182.720001</td>\n",
       "      <td>182.720001</td>\n",
       "      <td>10352000</td>\n",
       "    </tr>\n",
       "    <tr>\n",
       "      <th>249</th>\n",
       "      <td>2019-05-21</td>\n",
       "      <td>184.570007</td>\n",
       "      <td>185.699997</td>\n",
       "      <td>183.889999</td>\n",
       "      <td>184.820007</td>\n",
       "      <td>184.820007</td>\n",
       "      <td>7502800</td>\n",
       "    </tr>\n",
       "    <tr>\n",
       "      <th>250</th>\n",
       "      <td>2019-05-22</td>\n",
       "      <td>184.729996</td>\n",
       "      <td>186.740005</td>\n",
       "      <td>183.610001</td>\n",
       "      <td>185.320007</td>\n",
       "      <td>185.320007</td>\n",
       "      <td>9203300</td>\n",
       "    </tr>\n",
       "    <tr>\n",
       "      <th>251</th>\n",
       "      <td>2019-05-23</td>\n",
       "      <td>182.419998</td>\n",
       "      <td>183.899994</td>\n",
       "      <td>179.669998</td>\n",
       "      <td>180.460007</td>\n",
       "      <td>180.460007</td>\n",
       "      <td>10396877</td>\n",
       "    </tr>\n",
       "  </tbody>\n",
       "</table>\n",
       "</div>"
      ],
      "text/plain": [
       "           Date        Open        High         Low       Close   Adj Close  \\\n",
       "247  2019-05-17  184.839996  187.580002  184.279999  185.300003  185.300003   \n",
       "248  2019-05-20  181.880005  184.229996  181.369995  182.720001  182.720001   \n",
       "249  2019-05-21  184.570007  185.699997  183.889999  184.820007  184.820007   \n",
       "250  2019-05-22  184.729996  186.740005  183.610001  185.320007  185.320007   \n",
       "251  2019-05-23  182.419998  183.899994  179.669998  180.460007  180.460007   \n",
       "\n",
       "       Volume  \n",
       "247  10485400  \n",
       "248  10352000  \n",
       "249   7502800  \n",
       "250   9203300  \n",
       "251  10396877  "
      ]
     },
     "execution_count": 26,
     "metadata": {},
     "output_type": "execute_result"
    }
   ],
   "source": [
    "df = pd.read_csv('FB.txt')\n",
    "\n",
    "df.tail()"
   ]
  },
  {
   "cell_type": "code",
   "execution_count": 5,
   "metadata": {},
   "outputs": [],
   "source": [
    "X = df['Close']\n",
    "test = X.iloc[-30:]\n",
    "train = X.iloc[:-30]"
   ]
  },
  {
   "cell_type": "code",
   "execution_count": 19,
   "metadata": {},
   "outputs": [
    {
     "name": "stdout",
     "output_type": "stream",
     "text": [
      "Fitting for smoothing level = 0.0\n",
      "Mean Squared Error (MSE) is : 428.9191876208606\n",
      "Mean Absolute Error (MAE) is : 19.93104062448643\n",
      "Root Mean Squared Error (MAE) is : 20.71036425611246\n",
      "Coefficient of determination R^2 is : -12.542190444010913\n",
      "\n",
      "Fitting for smoothing level = 0.1\n",
      "Mean Squared Error (MSE) is : 244.72012283908393\n",
      "Mean Absolute Error (MAE) is : 14.596140434825633\n",
      "Root Mean Squared Error (MAE) is : 15.643532939815223\n",
      "Coefficient of determination R^2 is : -6.726505609019388\n",
      "\n",
      "Fitting for smoothing level = 0.2\n",
      "Mean Squared Error (MSE) is : 168.59085715845356\n",
      "Mean Absolute Error (MAE) is : 11.701198652809955\n",
      "Root Mean Squared Error (MAE) is : 12.984254201087314\n",
      "Coefficient of determination R^2 is : -4.322889627350818\n",
      "\n",
      "Fitting for smoothing level = 0.30000000000000004\n",
      "Mean Squared Error (MSE) is : 135.41668454697373\n",
      "Mean Absolute Error (MAE) is : 10.185473837826184\n",
      "Root Mean Squared Error (MAE) is : 11.63686747140199\n",
      "Coefficient of determination R^2 is : -3.275487281423916\n",
      "\n",
      "Fitting for smoothing level = 0.4\n",
      "Mean Squared Error (MSE) is : 119.44750944654011\n",
      "Mean Absolute Error (MAE) is : 9.368815410744737\n",
      "Root Mean Squared Error (MAE) is : 10.929204428801764\n",
      "Coefficient of determination R^2 is : -2.7712953108026617\n",
      "\n",
      "Fitting for smoothing level = 0.5\n",
      "Mean Squared Error (MSE) is : 111.01152793846316\n",
      "Mean Absolute Error (MAE) is : 8.907228564067005\n",
      "Root Mean Squared Error (MAE) is : 10.536200830397224\n",
      "Coefficient of determination R^2 is : -2.504947543060652\n",
      "\n",
      "Fitting for smoothing level = 0.6000000000000001\n",
      "Mean Squared Error (MSE) is : 105.93697425944293\n",
      "Mean Absolute Error (MAE) is : 8.617665984099807\n",
      "Root Mean Squared Error (MAE) is : 10.29256888533873\n",
      "Coefficient of determination R^2 is : -2.3447295478694623\n",
      "\n",
      "Fitting for smoothing level = 0.7000000000000001\n",
      "Mean Squared Error (MSE) is : 102.50691315351895\n",
      "Mean Absolute Error (MAE) is : 8.41739145206475\n",
      "Root Mean Squared Error (MAE) is : 10.124569776218591\n",
      "Coefficient of determination R^2 is : -2.2364328288798774\n",
      "\n",
      "Fitting for smoothing level = 0.8\n",
      "Mean Squared Error (MSE) is : 100.07709254817493\n",
      "Mean Absolute Error (MAE) is : 8.281487206216848\n",
      "Root Mean Squared Error (MAE) is : 10.003853884787349\n",
      "Coefficient of determination R^2 is : -2.159716528159293\n",
      "\n",
      "Fitting for smoothing level = 0.9\n",
      "Mean Squared Error (MSE) is : 98.46035519022891\n",
      "Mean Absolute Error (MAE) is : 8.189718673464265\n",
      "Root Mean Squared Error (MAE) is : 9.922719142968267\n",
      "Coefficient of determination R^2 is : -2.1086715625080825\n",
      "\n"
     ]
    },
    {
     "name": "stderr",
     "output_type": "stream",
     "text": [
      "C:\\Users\\damas\\AppData\\Local\\Temp\\ipykernel_5648\\623605030.py:12: FutureWarning: The frame.append method is deprecated and will be removed from pandas in a future version. Use pandas.concat instead.\n",
      "  temp_df = temp_df.append(df3, ignore_index=True)\n",
      "C:\\Users\\damas\\AppData\\Local\\Temp\\ipykernel_5648\\623605030.py:12: FutureWarning: The frame.append method is deprecated and will be removed from pandas in a future version. Use pandas.concat instead.\n",
      "  temp_df = temp_df.append(df3, ignore_index=True)\n",
      "C:\\Users\\damas\\AppData\\Local\\Temp\\ipykernel_5648\\623605030.py:12: FutureWarning: The frame.append method is deprecated and will be removed from pandas in a future version. Use pandas.concat instead.\n",
      "  temp_df = temp_df.append(df3, ignore_index=True)\n",
      "C:\\Users\\damas\\AppData\\Local\\Temp\\ipykernel_5648\\623605030.py:12: FutureWarning: The frame.append method is deprecated and will be removed from pandas in a future version. Use pandas.concat instead.\n",
      "  temp_df = temp_df.append(df3, ignore_index=True)\n",
      "C:\\Users\\damas\\AppData\\Local\\Temp\\ipykernel_5648\\623605030.py:12: FutureWarning: The frame.append method is deprecated and will be removed from pandas in a future version. Use pandas.concat instead.\n",
      "  temp_df = temp_df.append(df3, ignore_index=True)\n",
      "C:\\Users\\damas\\AppData\\Local\\Temp\\ipykernel_5648\\623605030.py:12: FutureWarning: The frame.append method is deprecated and will be removed from pandas in a future version. Use pandas.concat instead.\n",
      "  temp_df = temp_df.append(df3, ignore_index=True)\n",
      "C:\\Users\\damas\\AppData\\Local\\Temp\\ipykernel_5648\\623605030.py:12: FutureWarning: The frame.append method is deprecated and will be removed from pandas in a future version. Use pandas.concat instead.\n",
      "  temp_df = temp_df.append(df3, ignore_index=True)\n",
      "C:\\Users\\damas\\AppData\\Local\\Temp\\ipykernel_5648\\623605030.py:12: FutureWarning: The frame.append method is deprecated and will be removed from pandas in a future version. Use pandas.concat instead.\n",
      "  temp_df = temp_df.append(df3, ignore_index=True)\n",
      "C:\\Users\\damas\\AppData\\Local\\Temp\\ipykernel_5648\\623605030.py:12: FutureWarning: The frame.append method is deprecated and will be removed from pandas in a future version. Use pandas.concat instead.\n",
      "  temp_df = temp_df.append(df3, ignore_index=True)\n",
      "C:\\Users\\damas\\AppData\\Local\\Temp\\ipykernel_5648\\623605030.py:12: FutureWarning: The frame.append method is deprecated and will be removed from pandas in a future version. Use pandas.concat instead.\n",
      "  temp_df = temp_df.append(df3, ignore_index=True)\n"
     ]
    },
    {
     "data": {
      "text/html": [
       "<div>\n",
       "<style scoped>\n",
       "    .dataframe tbody tr th:only-of-type {\n",
       "        vertical-align: middle;\n",
       "    }\n",
       "\n",
       "    .dataframe tbody tr th {\n",
       "        vertical-align: top;\n",
       "    }\n",
       "\n",
       "    .dataframe thead th {\n",
       "        text-align: right;\n",
       "    }\n",
       "</style>\n",
       "<table border=\"1\" class=\"dataframe\">\n",
       "  <thead>\n",
       "    <tr style=\"text-align: right;\">\n",
       "      <th></th>\n",
       "      <th>smoothing parameter</th>\n",
       "      <th>RMSE</th>\n",
       "    </tr>\n",
       "  </thead>\n",
       "  <tbody>\n",
       "    <tr>\n",
       "      <th>9</th>\n",
       "      <td>0.9</td>\n",
       "      <td>9.922719</td>\n",
       "    </tr>\n",
       "    <tr>\n",
       "      <th>8</th>\n",
       "      <td>0.8</td>\n",
       "      <td>10.003854</td>\n",
       "    </tr>\n",
       "    <tr>\n",
       "      <th>7</th>\n",
       "      <td>0.7</td>\n",
       "      <td>10.124570</td>\n",
       "    </tr>\n",
       "  </tbody>\n",
       "</table>\n",
       "</div>"
      ],
      "text/plain": [
       "   smoothing parameter       RMSE\n",
       "9                  0.9   9.922719\n",
       "8                  0.8  10.003854\n",
       "7                  0.7  10.124570"
      ]
     },
     "execution_count": 19,
     "metadata": {},
     "output_type": "execute_result"
    }
   ],
   "source": [
    "resu = []\n",
    "temp_df = pd.DataFrame()\n",
    "parameters_list = np.arange(0,1.0,0.1)\n",
    "\n",
    "for i in parameters_list:\n",
    "    print(f'Fitting for smoothing level = {i}')\n",
    "    fit_v = SimpleExpSmoothing(np.asarray(train)).fit(i)\n",
    "    fcst_pred_v = fit_v.forecast(30)\n",
    "    timeseries_evaluation_metrics_func(test,fcst_pred_v)\n",
    "    rmse = np.sqrt(metrics.mean_squared_error(test,fcst_pred_v))\n",
    "    df3 = {'smoothing parameter': i, 'RMSE': rmse}\n",
    "    temp_df = temp_df.append(df3, ignore_index=True)\n",
    "\n",
    "temp_df.sort_values(by=['RMSE']).head(3)\n"
   ]
  },
  {
   "cell_type": "code",
   "execution_count": 20,
   "metadata": {},
   "outputs": [
    {
     "name": "stdout",
     "output_type": "stream",
     "text": [
      "Mean Squared Error (MSE) is : 98.46035519022891\n",
      "Mean Absolute Error (MAE) is : 8.189718673464265\n",
      "Root Mean Squared Error (MAE) is : 9.922719142968267\n",
      "Coefficient of determination R^2 is : -2.1086715625080825\n",
      "\n"
     ]
    }
   ],
   "source": [
    "fitSES = SimpleExpSmoothing(np.asarray(train)).fit(smoothing_level=0.9, optimized=False)\n",
    "\n",
    "fcst_gs_pred = fitSES.forecast(30)\n",
    "\n",
    "timeseries_evaluation_metrics_func(test, fcst_gs_pred)"
   ]
  },
  {
   "cell_type": "code",
   "execution_count": 21,
   "metadata": {},
   "outputs": [
    {
     "name": "stdout",
     "output_type": "stream",
     "text": [
      "Mean Squared Error (MSE) is : 98.46035519022891\n",
      "Mean Absolute Error (MAE) is : 8.189718673464265\n",
      "Root Mean Squared Error (MAE) is : 9.922719142968267\n",
      "Coefficient of determination R^2 is : -2.1086715625080825\n",
      "\n"
     ]
    }
   ],
   "source": [
    "fitSESauto = SimpleExpSmoothing(np.asarray(train)).fit(optimized=True, use_brute=True)\n",
    "\n",
    "fcst_auto_pred = fitSES.forecast(30)\n",
    "\n",
    "timeseries_evaluation_metrics_func(test, fcst_auto_pred)"
   ]
  },
  {
   "cell_type": "code",
   "execution_count": 22,
   "metadata": {},
   "outputs": [
    {
     "data": {
      "text/html": [
       "<table class=\"simpletable\">\n",
       "<caption>SimpleExpSmoothing Model Results</caption>\n",
       "<tr>\n",
       "  <th>Dep. Variable:</th>           <td>endog</td>       <th>  No. Observations:  </th>        <td>222</td>      \n",
       "</tr>\n",
       "<tr>\n",
       "  <th>Model:</th>            <td>SimpleExpSmoothing</td> <th>  SSE                </th>     <td>3897.009</td>    \n",
       "</tr>\n",
       "<tr>\n",
       "  <th>Optimized:</th>               <td>True</td>        <th>  AIC                </th>      <td>640.094</td>    \n",
       "</tr>\n",
       "<tr>\n",
       "  <th>Trend:</th>                   <td>None</td>        <th>  BIC                </th>      <td>646.899</td>    \n",
       "</tr>\n",
       "<tr>\n",
       "  <th>Seasonal:</th>                <td>None</td>        <th>  AICC               </th>      <td>640.278</td>    \n",
       "</tr>\n",
       "<tr>\n",
       "  <th>Seasonal Periods:</th>        <td>None</td>        <th>  Date:              </th> <td>Sun, 18 Sep 2022</td>\n",
       "</tr>\n",
       "<tr>\n",
       "  <th>Box-Cox:</th>                 <td>False</td>       <th>  Time:              </th>     <td>19:52:38</td>    \n",
       "</tr>\n",
       "<tr>\n",
       "  <th>Box-Cox Coeff.:</th>          <td>None</td>        <th>                     </th>         <td> </td>       \n",
       "</tr>\n",
       "</table>\n",
       "<table class=\"simpletable\">\n",
       "<tr>\n",
       "         <td></td>                 <th>coeff</th>                <th>code</th>               <th>optimized</th>     \n",
       "</tr>\n",
       "<tr>\n",
       "  <th>smoothing_level</th> <td>           0.9858939</td> <td>               alpha</td> <td>                True</td>\n",
       "</tr>\n",
       "<tr>\n",
       "  <th>initial_level</th>   <td>           186.88613</td> <td>                 l.0</td> <td>                True</td>\n",
       "</tr>\n",
       "</table>"
      ],
      "text/plain": [
       "<class 'statsmodels.iolib.summary.Summary'>\n",
       "\"\"\"\n",
       "                       SimpleExpSmoothing Model Results                       \n",
       "==============================================================================\n",
       "Dep. Variable:                  endog   No. Observations:                  222\n",
       "Model:             SimpleExpSmoothing   SSE                           3897.009\n",
       "Optimized:                       True   AIC                            640.094\n",
       "Trend:                           None   BIC                            646.899\n",
       "Seasonal:                        None   AICC                           640.278\n",
       "Seasonal Periods:                None   Date:                 Sun, 18 Sep 2022\n",
       "Box-Cox:                        False   Time:                         19:52:38\n",
       "Box-Cox Coeff.:                  None                                         \n",
       "==============================================================================\n",
       "                       coeff                 code              optimized      \n",
       "------------------------------------------------------------------------------\n",
       "smoothing_level            0.9858939                alpha                 True\n",
       "initial_level              186.88613                  l.0                 True\n",
       "------------------------------------------------------------------------------\n",
       "\"\"\""
      ]
     },
     "execution_count": 22,
     "metadata": {},
     "output_type": "execute_result"
    }
   ],
   "source": [
    "fitSESauto.summary()"
   ]
  },
  {
   "cell_type": "code",
   "execution_count": 27,
   "metadata": {},
   "outputs": [
    {
     "data": {
      "image/png": "[encoded data removed]",
      "text/plain": [
       "<Figure size 1152x648 with 1 Axes>"
      ]
     },
     "metadata": {
      "needs_background": "light"
     },
     "output_type": "display_data"
    }
   ],
   "source": [
    "df_fcst_auto_pred = pd.DataFrame(fcst_auto_pred, columns=['Close_auto_search'])\n",
    "df_fcst_auto_pred['new_index'] = range(222,252)\n",
    "df_fcst_auto_pred = df_fcst_auto_pred.set_index('new_index')\n",
    "\n",
    "import matplotlib.pyplot as plt \n",
    "plt.rcParams['figure.figsize'] = [16,9]\n",
    "plt.plot(train, label='Train')\n",
    "plt.plot(test, label='Test')\n",
    "plt.plot(df_fcst_auto_pred, label='Simple Exponential Smoothing using optimezed = True')\n",
    "plt.legend(loc='best')\n",
    "plt.show()"
   ]
  },
  {
   "cell_type": "code",
   "execution_count": null,
   "metadata": {},
   "outputs": [],
   "source": []
  }
 ],
 "metadata": {
  "kernelspec": {
   "display_name": "Python 3.8.10 64-bit",
   "language": "python",
   "name": "python3"
  },
  "language_info": {
   "codemirror_mode": {
    "name": "ipython",
    "version": 3
   },
   "file_extension": ".py",
   "mimetype": "text/x-python",
   "name": "python",
   "nbconvert_exporter": "python",
   "pygments_lexer": "ipython3",
   "version": "3.8.10"
  },
  "orig_nbformat": 4,
  "vscode": {
   "interpreter": {
    "hash": "35df17615a3d321e8bd3bbbc713a53a8cda66b7166292291c5678c7e1084f032"
   }
  }
 },
 "nbformat": 4,
 "nbformat_minor": 2
}
