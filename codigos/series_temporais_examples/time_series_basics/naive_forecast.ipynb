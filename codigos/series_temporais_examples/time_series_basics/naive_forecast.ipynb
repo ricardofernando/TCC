{
 "cells": [
  {
   "cell_type": "markdown",
   "metadata": {},
   "source": [
    "## Naive Forecast"
   ]
  },
  {
   "cell_type": "code",
   "execution_count": 3,
   "metadata": {},
   "outputs": [],
   "source": [
    "#libraries\n",
    "import numpy as np\n",
    "import pandas as pd\n",
    "import matplotlib.pyplot as plt\n",
    "\n",
    "from scipy.stats import boxcox\n",
    "\n",
    "from sklearn.metrics import mean_absolute_percentage_error, mean_absolute_error, r2_score, mean_squared_error\n",
    "\n",
    "import warnings\n",
    "\n",
    "warnings.filterwarnings('ignore')\n",
    "\n",
    "from IPython.display import display, Markdown\n",
    "\n",
    "pd.set_option('display.max_rows', 999)\n",
    "pd.set_option('display.max_columns', 999)\n",
    "pd.set_option('display.width', 800)\n",
    "pd.set_option('display.max_colwidth', None)\n",
    "pd.options.display.float_format = '{:.5f}'.format"
   ]
  },
  {
   "cell_type": "code",
   "execution_count": 5,
   "metadata": {},
   "outputs": [
    {
     "name": "stdout",
     "output_type": "stream",
     "text": [
      "<class 'pandas.core.frame.DataFrame'>\n",
      "DatetimeIndex: 6126 entries, 1993-01-29 to 2017-05-25\n",
      "Data columns (total 6 columns):\n",
      " #   Column     Non-Null Count  Dtype  \n",
      "---  ------     --------------  -----  \n",
      " 0   Open       6126 non-null   float64\n",
      " 1   High       6126 non-null   float64\n",
      " 2   Low        6126 non-null   float64\n",
      " 3   Close      6126 non-null   float64\n",
      " 4   Adj Close  6126 non-null   float64\n",
      " 5   Volume     6126 non-null   int64  \n",
      "dtypes: float64(5), int64(1)\n",
      "memory usage: 335.0 KB\n"
     ]
    }
   ],
   "source": [
    "df = pd.read_csv('SPY.csv', index_col='Date', parse_dates=True)\n",
    "\n",
    "df.info()"
   ]
  },
  {
   "cell_type": "code",
   "execution_count": 6,
   "metadata": {},
   "outputs": [
    {
     "data": {
      "text/html": [
       "<div>\n",
       "<style scoped>\n",
       "    .dataframe tbody tr th:only-of-type {\n",
       "        vertical-align: middle;\n",
       "    }\n",
       "\n",
       "    .dataframe tbody tr th {\n",
       "        vertical-align: top;\n",
       "    }\n",
       "\n",
       "    .dataframe thead th {\n",
       "        text-align: right;\n",
       "    }\n",
       "</style>\n",
       "<table border=\"1\" class=\"dataframe\">\n",
       "  <thead>\n",
       "    <tr style=\"text-align: right;\">\n",
       "      <th></th>\n",
       "      <th>Open</th>\n",
       "      <th>High</th>\n",
       "      <th>Low</th>\n",
       "      <th>Close</th>\n",
       "      <th>Adj Close</th>\n",
       "      <th>Volume</th>\n",
       "    </tr>\n",
       "    <tr>\n",
       "      <th>Date</th>\n",
       "      <th></th>\n",
       "      <th></th>\n",
       "      <th></th>\n",
       "      <th></th>\n",
       "      <th></th>\n",
       "      <th></th>\n",
       "    </tr>\n",
       "  </thead>\n",
       "  <tbody>\n",
       "    <tr>\n",
       "      <th>1993-01-29</th>\n",
       "      <td>43.96870</td>\n",
       "      <td>43.96870</td>\n",
       "      <td>43.75000</td>\n",
       "      <td>43.93750</td>\n",
       "      <td>43.93750</td>\n",
       "      <td>1003200</td>\n",
       "    </tr>\n",
       "    <tr>\n",
       "      <th>1993-02-01</th>\n",
       "      <td>43.96870</td>\n",
       "      <td>44.25000</td>\n",
       "      <td>43.96870</td>\n",
       "      <td>44.25000</td>\n",
       "      <td>44.25000</td>\n",
       "      <td>480500</td>\n",
       "    </tr>\n",
       "    <tr>\n",
       "      <th>1993-02-02</th>\n",
       "      <td>44.21870</td>\n",
       "      <td>44.37500</td>\n",
       "      <td>44.12500</td>\n",
       "      <td>44.34370</td>\n",
       "      <td>44.34370</td>\n",
       "      <td>201300</td>\n",
       "    </tr>\n",
       "    <tr>\n",
       "      <th>1993-02-03</th>\n",
       "      <td>44.40620</td>\n",
       "      <td>44.84370</td>\n",
       "      <td>44.37500</td>\n",
       "      <td>44.81250</td>\n",
       "      <td>44.81250</td>\n",
       "      <td>529400</td>\n",
       "    </tr>\n",
       "    <tr>\n",
       "      <th>1993-02-04</th>\n",
       "      <td>44.96870</td>\n",
       "      <td>45.09370</td>\n",
       "      <td>44.46870</td>\n",
       "      <td>45.00000</td>\n",
       "      <td>45.00000</td>\n",
       "      <td>531500</td>\n",
       "    </tr>\n",
       "  </tbody>\n",
       "</table>\n",
       "</div>"
      ],
      "text/plain": [
       "               Open     High      Low    Close  Adj Close   Volume\n",
       "Date                                                              \n",
       "1993-01-29 43.96870 43.96870 43.75000 43.93750   43.93750  1003200\n",
       "1993-02-01 43.96870 44.25000 43.96870 44.25000   44.25000   480500\n",
       "1993-02-02 44.21870 44.37500 44.12500 44.34370   44.34370   201300\n",
       "1993-02-03 44.40620 44.84370 44.37500 44.81250   44.81250   529400\n",
       "1993-02-04 44.96870 45.09370 44.46870 45.00000   45.00000   531500"
      ]
     },
     "execution_count": 6,
     "metadata": {},
     "output_type": "execute_result"
    }
   ],
   "source": [
    "df.head()"
   ]
  },
  {
   "cell_type": "code",
   "execution_count": 7,
   "metadata": {},
   "outputs": [],
   "source": [
    "df['ClosePrediction'] = df['Close'].shift(1)"
   ]
  },
  {
   "cell_type": "code",
   "execution_count": 8,
   "metadata": {},
   "outputs": [
    {
     "data": {
      "text/html": [
       "<div>\n",
       "<style scoped>\n",
       "    .dataframe tbody tr th:only-of-type {\n",
       "        vertical-align: middle;\n",
       "    }\n",
       "\n",
       "    .dataframe tbody tr th {\n",
       "        vertical-align: top;\n",
       "    }\n",
       "\n",
       "    .dataframe thead th {\n",
       "        text-align: right;\n",
       "    }\n",
       "</style>\n",
       "<table border=\"1\" class=\"dataframe\">\n",
       "  <thead>\n",
       "    <tr style=\"text-align: right;\">\n",
       "      <th></th>\n",
       "      <th>Open</th>\n",
       "      <th>High</th>\n",
       "      <th>Low</th>\n",
       "      <th>Close</th>\n",
       "      <th>Adj Close</th>\n",
       "      <th>Volume</th>\n",
       "      <th>ClosePrediction</th>\n",
       "    </tr>\n",
       "    <tr>\n",
       "      <th>Date</th>\n",
       "      <th></th>\n",
       "      <th></th>\n",
       "      <th></th>\n",
       "      <th></th>\n",
       "      <th></th>\n",
       "      <th></th>\n",
       "      <th></th>\n",
       "    </tr>\n",
       "  </thead>\n",
       "  <tbody>\n",
       "    <tr>\n",
       "      <th>1993-01-29</th>\n",
       "      <td>43.96870</td>\n",
       "      <td>43.96870</td>\n",
       "      <td>43.75000</td>\n",
       "      <td>43.93750</td>\n",
       "      <td>43.93750</td>\n",
       "      <td>1003200</td>\n",
       "      <td>NaN</td>\n",
       "    </tr>\n",
       "    <tr>\n",
       "      <th>1993-02-01</th>\n",
       "      <td>43.96870</td>\n",
       "      <td>44.25000</td>\n",
       "      <td>43.96870</td>\n",
       "      <td>44.25000</td>\n",
       "      <td>44.25000</td>\n",
       "      <td>480500</td>\n",
       "      <td>43.93750</td>\n",
       "    </tr>\n",
       "    <tr>\n",
       "      <th>1993-02-02</th>\n",
       "      <td>44.21870</td>\n",
       "      <td>44.37500</td>\n",
       "      <td>44.12500</td>\n",
       "      <td>44.34370</td>\n",
       "      <td>44.34370</td>\n",
       "      <td>201300</td>\n",
       "      <td>44.25000</td>\n",
       "    </tr>\n",
       "    <tr>\n",
       "      <th>1993-02-03</th>\n",
       "      <td>44.40620</td>\n",
       "      <td>44.84370</td>\n",
       "      <td>44.37500</td>\n",
       "      <td>44.81250</td>\n",
       "      <td>44.81250</td>\n",
       "      <td>529400</td>\n",
       "      <td>44.34370</td>\n",
       "    </tr>\n",
       "    <tr>\n",
       "      <th>1993-02-04</th>\n",
       "      <td>44.96870</td>\n",
       "      <td>45.09370</td>\n",
       "      <td>44.46870</td>\n",
       "      <td>45.00000</td>\n",
       "      <td>45.00000</td>\n",
       "      <td>531500</td>\n",
       "      <td>44.81250</td>\n",
       "    </tr>\n",
       "  </tbody>\n",
       "</table>\n",
       "</div>"
      ],
      "text/plain": [
       "               Open     High      Low    Close  Adj Close   Volume  ClosePrediction\n",
       "Date                                                                               \n",
       "1993-01-29 43.96870 43.96870 43.75000 43.93750   43.93750  1003200              NaN\n",
       "1993-02-01 43.96870 44.25000 43.96870 44.25000   44.25000   480500         43.93750\n",
       "1993-02-02 44.21870 44.37500 44.12500 44.34370   44.34370   201300         44.25000\n",
       "1993-02-03 44.40620 44.84370 44.37500 44.81250   44.81250   529400         44.34370\n",
       "1993-02-04 44.96870 45.09370 44.46870 45.00000   45.00000   531500         44.81250"
      ]
     },
     "execution_count": 8,
     "metadata": {},
     "output_type": "execute_result"
    }
   ],
   "source": [
    "df.head()"
   ]
  },
  {
   "cell_type": "code",
   "execution_count": 9,
   "metadata": {},
   "outputs": [],
   "source": [
    "y_true = df.iloc[1:]['Close']\n",
    "y_pred = df.iloc[1:]['ClosePrediction']"
   ]
  },
  {
   "cell_type": "code",
   "execution_count": 10,
   "metadata": {},
   "outputs": [
    {
     "name": "stdout",
     "output_type": "stream",
     "text": [
      "\n",
      "SSE\n",
      "11668.570293787614\n",
      "\n",
      "MSE\n",
      "1.9050727010265491\n",
      "\n",
      "RMSE\n",
      "1.3802437107360965\n",
      "\n",
      "MAE\n",
      "0.9364204628571428\n",
      "\n",
      "MAPE\n",
      "0.007879649735851743\n",
      "\n",
      "R2\n",
      "0.9991057444706286\n"
     ]
    }
   ],
   "source": [
    "#Metrics\n",
    "\n",
    "#SSE\n",
    "print('')\n",
    "print('SSE')\n",
    "print((y_true - y_pred).dot(y_true - y_pred))\n",
    "\n",
    "#MSE\n",
    "print('')\n",
    "print('MSE')\n",
    "print(mean_squared_error(y_true,y_pred))\n",
    "\n",
    "#RMSE\n",
    "print('')\n",
    "print('RMSE')\n",
    "print(mean_squared_error(y_true,y_pred, squared=False))\n",
    "\n",
    "#MAE\n",
    "print('')\n",
    "print('MAE')\n",
    "print(mean_absolute_error(y_true,y_pred))\n",
    "\n",
    "#MAPE\n",
    "print('')\n",
    "print('MAPE')\n",
    "print(mean_absolute_percentage_error(y_true,y_pred))\n",
    "\n",
    "#R2\n",
    "print('')\n",
    "print('R2')\n",
    "print(r2_score(y_true,y_pred))"
   ]
  },
  {
   "cell_type": "code",
   "execution_count": 11,
   "metadata": {},
   "outputs": [
    {
     "name": "stdout",
     "output_type": "stream",
     "text": [
      "0.007877261227400215\n"
     ]
    }
   ],
   "source": [
    "#sMAPE\n",
    "\n",
    "def smape(y_true,y_pred):\n",
    "    num = np.abs(y_true - y_pred)\n",
    "    den = (np.abs(y_true) + np.abs(y_pred)) / 2\n",
    "    ratio = num/den\n",
    "    return ratio.mean()\n",
    "\n",
    "print(smape(y_true,y_pred))"
   ]
  }
 ],
 "metadata": {
  "kernelspec": {
   "display_name": "Python 3.8.10 64-bit",
   "language": "python",
   "name": "python3"
  },
  "language_info": {
   "codemirror_mode": {
    "name": "ipython",
    "version": 3
   },
   "file_extension": ".py",
   "mimetype": "text/x-python",
   "name": "python",
   "nbconvert_exporter": "python",
   "pygments_lexer": "ipython3",
   "version": "3.8.10"
  },
  "orig_nbformat": 4,
  "vscode": {
   "interpreter": {
    "hash": "35df17615a3d321e8bd3bbbc713a53a8cda66b7166292291c5678c7e1084f032"
   }
  }
 },
 "nbformat": 4,
 "nbformat_minor": 2
}
