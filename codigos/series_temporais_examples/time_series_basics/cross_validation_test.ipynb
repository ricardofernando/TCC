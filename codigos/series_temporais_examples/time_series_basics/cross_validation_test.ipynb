{
 "cells": [
  {
   "cell_type": "markdown",
   "metadata": {},
   "source": [
    "## Time Series Split"
   ]
  },
  {
   "cell_type": "code",
   "execution_count": 1,
   "metadata": {},
   "outputs": [],
   "source": [
    "#libraries\n",
    "import numpy as np\n",
    "import pandas as pd\n",
    "import matplotlib.pyplot as plt\n",
    "from sklearn.model_selection import TimeSeriesSplit\n",
    "\n",
    "from scipy.stats import boxcox\n",
    "\n",
    "from sklearn.metrics import mean_absolute_percentage_error, mean_absolute_error, r2_score, mean_squared_error\n",
    "\n",
    "import warnings\n",
    "\n",
    "warnings.filterwarnings('ignore')\n",
    "\n",
    "from IPython.display import display, Markdown\n",
    "\n",
    "pd.set_option('display.max_rows', 999)\n",
    "pd.set_option('display.max_columns', 999)\n",
    "pd.set_option('display.width', 800)\n",
    "pd.set_option('display.max_colwidth', None)\n",
    "pd.options.display.float_format = '{:.5f}'.format"
   ]
  },
  {
   "cell_type": "code",
   "execution_count": 8,
   "metadata": {},
   "outputs": [],
   "source": [
    "X = np.array([[1, 2], [3, 4], [1, 2], [3, 4], [1, 2], [3, 4]])\n",
    "y = np.array([1, 2, 3, 4, 5, 6])"
   ]
  },
  {
   "cell_type": "code",
   "execution_count": 11,
   "metadata": {},
   "outputs": [
    {
     "name": "stdout",
     "output_type": "stream",
     "text": [
      "TimeSeriesSplit(gap=0, max_train_size=None, n_splits=5, test_size=None)\n",
      "TRAIN: [0] TEST: [1]\n",
      "X_train\n",
      "[[1 2]]\n",
      "X_test\n",
      "[[3 4]]\n",
      "TRAIN: [0 1] TEST: [2]\n",
      "X_train\n",
      "[[1 2]\n",
      " [3 4]]\n",
      "X_test\n",
      "[[1 2]]\n",
      "TRAIN: [0 1 2] TEST: [3]\n",
      "X_train\n",
      "[[1 2]\n",
      " [3 4]\n",
      " [1 2]]\n",
      "X_test\n",
      "[[3 4]]\n",
      "TRAIN: [0 1 2 3] TEST: [4]\n",
      "X_train\n",
      "[[1 2]\n",
      " [3 4]\n",
      " [1 2]\n",
      " [3 4]]\n",
      "X_test\n",
      "[[1 2]]\n",
      "TRAIN: [0 1 2 3 4] TEST: [5]\n",
      "X_train\n",
      "[[1 2]\n",
      " [3 4]\n",
      " [1 2]\n",
      " [3 4]\n",
      " [1 2]]\n",
      "X_test\n",
      "[[3 4]]\n"
     ]
    }
   ],
   "source": [
    "tscv = TimeSeriesSplit()\n",
    "print(tscv)\n",
    "\n",
    "TimeSeriesSplit(max_train_size=None, n_splits=3)\n",
    "\n",
    "for train_index, test_index in tscv.split(X):\n",
    "    print('TRAIN:', train_index, 'TEST:', test_index) \n",
    "    X_train, X_test = X[train_index], X[test_index]\n",
    "    y_train, y_test = y[train_index], y[test_index]\n",
    "\n",
    "    print('X_train')\n",
    "    print(X_train)\n",
    "    print('X_test')\n",
    "    print(X_test)"
   ]
  },
  {
   "cell_type": "code",
   "execution_count": 6,
   "metadata": {},
   "outputs": [
    {
     "name": "stdout",
     "output_type": "stream",
     "text": [
      "TRAIN: [0 1 2 3 4 5] TEST: [6 7]\n",
      "TRAIN: [0 1 2 3 4 5 6 7] TEST: [8 9]\n",
      "TRAIN: [0 1 2 3 4 5 6 7 8 9] TEST: [10 11]\n"
     ]
    }
   ],
   "source": [
    "# Fix test_size to 2 with 12 samples\n",
    "X = np.random.randn(12, 2)\n",
    "y = np.random.randint(0, 2, 12)\n",
    "tscv = TimeSeriesSplit(n_splits=3, test_size=2)\n",
    "for train_index, test_index in tscv.split(X):\n",
    "    print(\"TRAIN:\", train_index, \"TEST:\", test_index)\n",
    "    X_train, X_test = X[train_index], X[test_index]"
   ]
  }
 ],
 "metadata": {
  "kernelspec": {
   "display_name": "Python 3.8.10 64-bit",
   "language": "python",
   "name": "python3"
  },
  "language_info": {
   "codemirror_mode": {
    "name": "ipython",
    "version": 3
   },
   "file_extension": ".py",
   "mimetype": "text/x-python",
   "name": "python",
   "nbconvert_exporter": "python",
   "pygments_lexer": "ipython3",
   "version": "3.8.10"
  },
  "orig_nbformat": 4,
  "vscode": {
   "interpreter": {
    "hash": "35df17615a3d321e8bd3bbbc713a53a8cda66b7166292291c5678c7e1084f032"
   }
  }
 },
 "nbformat": 4,
 "nbformat_minor": 2
}
