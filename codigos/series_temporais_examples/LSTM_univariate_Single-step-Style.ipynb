{
 "cells": [
  {
   "cell_type": "markdown",
   "metadata": {},
   "source": [
    "## LSTM Univariate Single-Step Style "
   ]
  },
  {
   "cell_type": "code",
   "execution_count": 57,
   "metadata": {},
   "outputs": [],
   "source": [
    "#Libraries\n",
    "import pandas as pd\n",
    "import numpy as np\n",
    "import tensorflow as tf\n",
    "from sklearn import preprocessing\n",
    "import matplotlib.pyplot as plt\n",
    "\n",
    "#tf.random.set_seed(123)\n",
    "#np.random.seed(123)"
   ]
  },
  {
   "cell_type": "code",
   "execution_count": 58,
   "metadata": {},
   "outputs": [],
   "source": [
    "#Leitura dos dados\n",
    "df = pd.read_csv(r'Metro_Interstate_Traffic_Volume.csv.gz', compression='gzip')"
   ]
  },
  {
   "cell_type": "code",
   "execution_count": 59,
   "metadata": {},
   "outputs": [
    {
     "data": {
      "text/html": [
       "<div>\n",
       "<style scoped>\n",
       "    .dataframe tbody tr th:only-of-type {\n",
       "        vertical-align: middle;\n",
       "    }\n",
       "\n",
       "    .dataframe tbody tr th {\n",
       "        vertical-align: top;\n",
       "    }\n",
       "\n",
       "    .dataframe thead th {\n",
       "        text-align: right;\n",
       "    }\n",
       "</style>\n",
       "<table border=\"1\" class=\"dataframe\">\n",
       "  <thead>\n",
       "    <tr style=\"text-align: right;\">\n",
       "      <th></th>\n",
       "      <th>temp</th>\n",
       "      <th>rain_1h</th>\n",
       "      <th>snow_1h</th>\n",
       "      <th>clouds_all</th>\n",
       "      <th>traffic_volume</th>\n",
       "    </tr>\n",
       "  </thead>\n",
       "  <tbody>\n",
       "    <tr>\n",
       "      <th>count</th>\n",
       "      <td>48204.000000</td>\n",
       "      <td>48204.000000</td>\n",
       "      <td>48204.000000</td>\n",
       "      <td>48204.000000</td>\n",
       "      <td>48204.000000</td>\n",
       "    </tr>\n",
       "    <tr>\n",
       "      <th>mean</th>\n",
       "      <td>281.205870</td>\n",
       "      <td>0.334264</td>\n",
       "      <td>0.000222</td>\n",
       "      <td>49.362231</td>\n",
       "      <td>3259.818355</td>\n",
       "    </tr>\n",
       "    <tr>\n",
       "      <th>std</th>\n",
       "      <td>13.338232</td>\n",
       "      <td>44.789133</td>\n",
       "      <td>0.008168</td>\n",
       "      <td>39.015750</td>\n",
       "      <td>1986.860670</td>\n",
       "    </tr>\n",
       "    <tr>\n",
       "      <th>min</th>\n",
       "      <td>0.000000</td>\n",
       "      <td>0.000000</td>\n",
       "      <td>0.000000</td>\n",
       "      <td>0.000000</td>\n",
       "      <td>0.000000</td>\n",
       "    </tr>\n",
       "    <tr>\n",
       "      <th>25%</th>\n",
       "      <td>272.160000</td>\n",
       "      <td>0.000000</td>\n",
       "      <td>0.000000</td>\n",
       "      <td>1.000000</td>\n",
       "      <td>1193.000000</td>\n",
       "    </tr>\n",
       "    <tr>\n",
       "      <th>50%</th>\n",
       "      <td>282.450000</td>\n",
       "      <td>0.000000</td>\n",
       "      <td>0.000000</td>\n",
       "      <td>64.000000</td>\n",
       "      <td>3380.000000</td>\n",
       "    </tr>\n",
       "    <tr>\n",
       "      <th>75%</th>\n",
       "      <td>291.806000</td>\n",
       "      <td>0.000000</td>\n",
       "      <td>0.000000</td>\n",
       "      <td>90.000000</td>\n",
       "      <td>4933.000000</td>\n",
       "    </tr>\n",
       "    <tr>\n",
       "      <th>max</th>\n",
       "      <td>310.070000</td>\n",
       "      <td>9831.300000</td>\n",
       "      <td>0.510000</td>\n",
       "      <td>100.000000</td>\n",
       "      <td>7280.000000</td>\n",
       "    </tr>\n",
       "  </tbody>\n",
       "</table>\n",
       "</div>"
      ],
      "text/plain": [
       "               temp       rain_1h       snow_1h    clouds_all  traffic_volume\n",
       "count  48204.000000  48204.000000  48204.000000  48204.000000    48204.000000\n",
       "mean     281.205870      0.334264      0.000222     49.362231     3259.818355\n",
       "std       13.338232     44.789133      0.008168     39.015750     1986.860670\n",
       "min        0.000000      0.000000      0.000000      0.000000        0.000000\n",
       "25%      272.160000      0.000000      0.000000      1.000000     1193.000000\n",
       "50%      282.450000      0.000000      0.000000     64.000000     3380.000000\n",
       "75%      291.806000      0.000000      0.000000     90.000000     4933.000000\n",
       "max      310.070000   9831.300000      0.510000    100.000000     7280.000000"
      ]
     },
     "execution_count": 59,
     "metadata": {},
     "output_type": "execute_result"
    }
   ],
   "source": [
    "df.describe()"
   ]
  },
  {
   "cell_type": "code",
   "execution_count": 60,
   "metadata": {},
   "outputs": [],
   "source": [
    "df.drop_duplicates(subset=['date_time'], keep=False, inplace=True)"
   ]
  },
  {
   "cell_type": "code",
   "execution_count": 61,
   "metadata": {},
   "outputs": [],
   "source": [
    "validate = df['traffic_volume'].tail(10)\n",
    "df.drop(df['traffic_volume'].tail(10).index, inplace=True)\n",
    "\n",
    "uni_data = df['traffic_volume']\n",
    "\n",
    "uni_data.index = df['date_time']"
   ]
  },
  {
   "cell_type": "code",
   "execution_count": 62,
   "metadata": {},
   "outputs": [
    {
     "data": {
      "text/plain": [
       "array([[0.76167582],\n",
       "       [0.62032967],\n",
       "       [0.65480769],\n",
       "       ...,\n",
       "       [0.39587912],\n",
       "       [0.50837912],\n",
       "       [0.55618132]])"
      ]
     },
     "execution_count": 62,
     "metadata": {},
     "output_type": "execute_result"
    }
   ],
   "source": [
    "uni_data = uni_data.values\n",
    "\n",
    "scaler_x = preprocessing.MinMaxScaler()\n",
    "x_rescaled = scaler_x.fit_transform(uni_data.reshape(-1,1))\n",
    "\n",
    "x_rescaled"
   ]
  },
  {
   "cell_type": "code",
   "execution_count": 63,
   "metadata": {},
   "outputs": [],
   "source": [
    "def custom_ts_univariate_data_prep(dataset, start, end, window, horizon):\n",
    "    X = []\n",
    "    y = []\n",
    "\n",
    "    start = start + window\n",
    "    if end is None:\n",
    "        end = len(dataset) - horizon\n",
    "    for i in range(start,end):\n",
    "        indicesx = range(i-window, i)\n",
    "        X.append(np.reshape(dataset[indicesx], (window,1)))\n",
    "        indicesy = range(i, i+horizon)\n",
    "        y.append(dataset[indicesy])\n",
    "    return np.array(X), np.array(y)"
   ]
  },
  {
   "cell_type": "code",
   "execution_count": 64,
   "metadata": {},
   "outputs": [
    {
     "name": "stdout",
     "output_type": "stream",
     "text": [
      "Single window of past history\n",
      "[[0.76167582]\n",
      " [0.62032967]\n",
      " [0.65480769]\n",
      " [0.69038462]\n",
      " [0.67554945]\n",
      " [0.71167582]\n",
      " [0.76703297]\n",
      " [0.82623626]\n",
      " [0.79546703]\n",
      " [0.65521978]\n",
      " [0.48612637]\n",
      " [0.38241758]\n",
      " [0.32431319]\n",
      " [0.21002747]\n",
      " [0.13228022]\n",
      " [0.06950549]\n",
      " [0.04409341]\n",
      " [0.0375    ]\n",
      " [0.05041209]\n",
      " [0.11181319]\n",
      " [0.37335165]\n",
      " [0.77925824]\n",
      " [0.89436813]\n",
      " [0.75151099]\n",
      " [0.70013736]\n",
      " [0.67129121]\n",
      " [0.7331044 ]\n",
      " [0.78186813]\n",
      " [0.84299451]\n",
      " [0.63502747]\n",
      " [0.49326923]\n",
      " [0.39807692]\n",
      " [0.36222527]\n",
      " [0.24409341]\n",
      " [0.13942308]\n",
      " [0.08214286]\n",
      " [0.05068681]\n",
      " [0.04285714]\n",
      " [0.05041209]\n",
      " [0.1146978 ]\n",
      " [0.37445055]\n",
      " [0.78145604]\n",
      " [0.96016484]\n",
      " [0.82211538]\n",
      " [0.72925824]\n",
      " [0.63228022]\n",
      " [0.67087912]\n",
      " [0.7010989 ]]\n",
      "\n",
      " Target horizon\n",
      "[[0.71126374]]\n"
     ]
    }
   ],
   "source": [
    "univar_hist_window = 48\n",
    "horizon = 1\n",
    "TRAIN_SPLIT = 3000\n",
    "x_train_uni, y_train_uni = custom_ts_univariate_data_prep(x_rescaled, 0, TRAIN_SPLIT, univar_hist_window, horizon)\n",
    "x_val_uni, y_val_uni = custom_ts_univariate_data_prep(x_rescaled, TRAIN_SPLIT, None, univar_hist_window, horizon)\n",
    "print('Single window of past history')\n",
    "print(x_train_uni[0])\n",
    "print('\\n Target horizon')\n",
    "print(y_train_uni[0])"
   ]
  },
  {
   "cell_type": "code",
   "execution_count": 65,
   "metadata": {},
   "outputs": [],
   "source": [
    "BATCH_SIZE = 256\n",
    "BUFFER_SIZE = 150\n",
    "\n",
    "train_univariate = tf.data.Dataset.from_tensor_slices((x_train_uni,y_train_uni))\n",
    "train_univariate = train_univariate.cache().shuffle(BUFFER_SIZE).batch(BATCH_SIZE).repeat()\n",
    "val_univariate = tf.data.Dataset.from_tensor_slices((x_val_uni,y_val_uni))\n",
    "val_univariate = val_univariate.batch(BATCH_SIZE).repeat()\n",
    "\n",
    "lstm_model = tf.keras.models.Sequential([   tf.keras.layers.LSTM(100, input_shape=x_train_uni.shape[-2:], return_sequences=True),\n",
    "                                            tf.keras.layers.Dropout(0.2),\n",
    "                                            tf.keras.layers.LSTM(units=50, return_sequences=False),\n",
    "                                            tf.keras.layers.Dropout(0.2),\n",
    "                                            tf.keras.layers.Dense(units=1)])\n",
    "\n",
    "lstm_model.compile(optimizer='adam', loss='mse')"
   ]
  },
  {
   "cell_type": "code",
   "execution_count": 66,
   "metadata": {},
   "outputs": [
    {
     "name": "stdout",
     "output_type": "stream",
     "text": [
      "Epoch 1/150\n",
      "100/100 [==============================] - 18s 157ms/step - loss: 0.0642 - val_loss: 0.0358\n",
      "Epoch 2/150\n",
      "100/100 [==============================] - 16s 163ms/step - loss: 0.0324 - val_loss: 0.0252\n",
      "Epoch 3/150\n",
      "100/100 [==============================] - 16s 164ms/step - loss: 0.0250 - val_loss: 0.0179\n",
      "Epoch 4/150\n",
      "100/100 [==============================] - 17s 173ms/step - loss: 0.0191 - val_loss: 0.0149\n",
      "Epoch 5/150\n",
      "100/100 [==============================] - 17s 170ms/step - loss: 0.0164 - val_loss: 0.0141\n",
      "Epoch 6/150\n",
      "100/100 [==============================] - 17s 167ms/step - loss: 0.0161 - val_loss: 0.0143\n",
      "Epoch 7/150\n",
      "100/100 [==============================] - 17s 168ms/step - loss: 0.0150 - val_loss: 0.0136\n",
      "Epoch 8/150\n",
      "100/100 [==============================] - 17s 171ms/step - loss: 0.0148 - val_loss: 0.0134\n",
      "Epoch 9/150\n",
      "100/100 [==============================] - 17s 169ms/step - loss: 0.0148 - val_loss: 0.0139\n",
      "Epoch 10/150\n",
      "100/100 [==============================] - 16s 163ms/step - loss: 0.0139 - val_loss: 0.0131\n",
      "Epoch 11/150\n",
      "100/100 [==============================] - 16s 164ms/step - loss: 0.0139 - val_loss: 0.0128\n",
      "Epoch 12/150\n",
      "100/100 [==============================] - 17s 170ms/step - loss: 0.0138 - val_loss: 0.0130\n",
      "Epoch 13/150\n",
      "100/100 [==============================] - 16s 164ms/step - loss: 0.0133 - val_loss: 0.0126\n",
      "Epoch 14/150\n",
      "100/100 [==============================] - 16s 165ms/step - loss: 0.0130 - val_loss: 0.0124\n",
      "Epoch 15/150\n",
      "100/100 [==============================] - 16s 162ms/step - loss: 0.0132 - val_loss: 0.0127\n",
      "Epoch 16/150\n",
      "100/100 [==============================] - 16s 162ms/step - loss: 0.0125 - val_loss: 0.0122\n",
      "Epoch 17/150\n",
      "100/100 [==============================] - 16s 162ms/step - loss: 0.0127 - val_loss: 0.0120\n",
      "Epoch 18/150\n",
      "100/100 [==============================] - 16s 161ms/step - loss: 0.0126 - val_loss: 0.0121\n",
      "Epoch 19/150\n",
      "100/100 [==============================] - 16s 163ms/step - loss: 0.0121 - val_loss: 0.0118\n",
      "Epoch 20/150\n",
      "100/100 [==============================] - 16s 161ms/step - loss: 0.0121 - val_loss: 0.0117\n",
      "Epoch 21/150\n",
      "100/100 [==============================] - 16s 162ms/step - loss: 0.0121 - val_loss: 0.0120\n",
      "Epoch 22/150\n",
      "100/100 [==============================] - 16s 162ms/step - loss: 0.0117 - val_loss: 0.0115\n",
      "Epoch 23/150\n",
      "100/100 [==============================] - 16s 162ms/step - loss: 0.0117 - val_loss: 0.0114\n",
      "Epoch 24/150\n",
      "100/100 [==============================] - 16s 160ms/step - loss: 0.0117 - val_loss: 0.0114\n",
      "Epoch 25/150\n",
      "100/100 [==============================] - 16s 162ms/step - loss: 0.0112 - val_loss: 0.0112\n",
      "Epoch 26/150\n",
      "100/100 [==============================] - 16s 159ms/step - loss: 0.0111 - val_loss: 0.0113\n",
      "Epoch 27/150\n",
      "100/100 [==============================] - 16s 161ms/step - loss: 0.0113 - val_loss: 0.0112\n",
      "Epoch 28/150\n",
      "100/100 [==============================] - 16s 164ms/step - loss: 0.0107 - val_loss: 0.0111\n",
      "Epoch 29/150\n",
      "100/100 [==============================] - 16s 163ms/step - loss: 0.0106 - val_loss: 0.0111\n",
      "Epoch 30/150\n",
      "100/100 [==============================] - 16s 163ms/step - loss: 0.0107 - val_loss: 0.0112\n",
      "Epoch 31/150\n",
      "100/100 [==============================] - 17s 168ms/step - loss: 0.0102 - val_loss: 0.0111\n",
      "Epoch 32/150\n",
      "100/100 [==============================] - 17s 166ms/step - loss: 0.0100 - val_loss: 0.0109\n",
      "Epoch 33/150\n",
      "100/100 [==============================] - 16s 164ms/step - loss: 0.0101 - val_loss: 0.0111\n",
      "Epoch 34/150\n",
      "100/100 [==============================] - 16s 164ms/step - loss: 0.0097 - val_loss: 0.0109\n",
      "Epoch 35/150\n",
      "100/100 [==============================] - 16s 165ms/step - loss: 0.0097 - val_loss: 0.0110\n",
      "Epoch 36/150\n",
      "100/100 [==============================] - 16s 163ms/step - loss: 0.0098 - val_loss: 0.0111\n",
      "Epoch 37/150\n",
      "100/100 [==============================] - 16s 165ms/step - loss: 0.0093 - val_loss: 0.0110\n",
      "Epoch 38/150\n",
      "100/100 [==============================] - 16s 164ms/step - loss: 0.0091 - val_loss: 0.0110\n",
      "Epoch 39/150\n",
      "100/100 [==============================] - 16s 164ms/step - loss: 0.0093 - val_loss: 0.0111\n",
      "Epoch 40/150\n",
      "100/100 [==============================] - 16s 165ms/step - loss: 0.0089 - val_loss: 0.0112\n",
      "Epoch 41/150\n",
      "100/100 [==============================] - 17s 167ms/step - loss: 0.0086 - val_loss: 0.0113\n",
      "Epoch 42/150\n",
      "100/100 [==============================] - 16s 163ms/step - loss: 0.0087 - val_loss: 0.0112\n",
      "Epoch 43/150\n",
      "100/100 [==============================] - 16s 164ms/step - loss: 0.0084 - val_loss: 0.0111\n",
      "Epoch 44/150\n",
      "100/100 [==============================] - 16s 164ms/step - loss: 0.0083 - val_loss: 0.0116\n",
      "Epoch 44: early stopping\n"
     ]
    }
   ],
   "source": [
    "EVALUATION_INTERVAL = 100\n",
    "EPOCHS = 150\n",
    "history = lstm_model.fit(   train_univariate,\n",
    "                            epochs = EPOCHS,\n",
    "                            steps_per_epoch = EVALUATION_INTERVAL,\n",
    "                            validation_data = val_univariate,\n",
    "                            validation_steps = 50,\n",
    "                            verbose = 1,\n",
    "                            callbacks = [   tf.keras.callbacks.EarlyStopping(monitor='val_loss', min_delta=0, patience=10, verbose=1, mode='min')])"
   ]
  },
  {
   "cell_type": "code",
   "execution_count": 67,
   "metadata": {},
   "outputs": [
    {
     "name": "stdout",
     "output_type": "stream",
     "text": [
      "Model: \"sequential_4\"\n",
      "_________________________________________________________________\n",
      " Layer (type)                Output Shape              Param #   \n",
      "=================================================================\n",
      " lstm_8 (LSTM)               (None, 48, 100)           40800     \n",
      "                                                                 \n",
      " dropout_8 (Dropout)         (None, 48, 100)           0         \n",
      "                                                                 \n",
      " lstm_9 (LSTM)               (None, 50)                30200     \n",
      "                                                                 \n",
      " dropout_9 (Dropout)         (None, 50)                0         \n",
      "                                                                 \n",
      " dense_4 (Dense)             (None, 1)                 51        \n",
      "                                                                 \n",
      "=================================================================\n",
      "Total params: 71,051\n",
      "Trainable params: 71,051\n",
      "Non-trainable params: 0\n",
      "_________________________________________________________________\n"
     ]
    }
   ],
   "source": [
    "lstm_model.summary()"
   ]
  },
  {
   "cell_type": "code",
   "execution_count": 68,
   "metadata": {},
   "outputs": [
    {
     "data": {
      "image/png": "[encoded data removed]",
      "text/plain": [
       "<Figure size 1152x648 with 1 Axes>"
      ]
     },
     "metadata": {
      "needs_background": "light"
     },
     "output_type": "display_data"
    }
   ],
   "source": [
    "#Plot the loss and val_loss against the epoch\n",
    "\n",
    "plt.plot(history.history['loss'])\n",
    "plt.plot(history.history['val_loss'])\n",
    "plt.title('Model loss')\n",
    "plt.ylabel('loss')\n",
    "plt.xlabel('epoch')\n",
    "plt.legend(['train loss', 'validation loss'], loc = 'upper left')\n",
    "plt.rcParams['figure.figsize'] = [16,9]\n",
    "plt.show()"
   ]
  },
  {
   "cell_type": "code",
   "execution_count": 69,
   "metadata": {},
   "outputs": [
    {
     "name": "stdout",
     "output_type": "stream",
     "text": [
      "predicted : [[0.63488245]]\n",
      "[0.80830343 0.77960021 0.83000171 0.94020161 1.         0.91576969\n",
      " 0.81479583 0.67503844 0.54724073 0.46523151 0.40628737 0.54826585\n",
      " 0.23885187 0.09089356 0.03229113 0.00410046 0.01537673 0.06970784\n",
      " 0.17495302 0.29062019 0.46779429 0.57919016 0.63625491 0.69075688\n",
      " 0.73842474 0.72065607 0.73176149 0.72253545 0.75175124 0.77618315\n",
      " 0.72338971 0.51307022 0.44677943 0.388177   0.60157184 0.25474116\n",
      " 0.09994874 0.06167777 0.00495472 0.         0.01862293 0.07978814\n",
      " 0.14351615 0.28481121 0.43516146 0.5750897  0.63454639 0.63488245]\n",
      "predicted : [[0.63297254]]\n",
      "[0.77960021 0.83000171 0.94020161 1.         0.91576969 0.81479583\n",
      " 0.67503844 0.54724073 0.46523151 0.40628737 0.54826585 0.23885187\n",
      " 0.09089356 0.03229113 0.00410046 0.01537673 0.06970784 0.17495302\n",
      " 0.29062019 0.46779429 0.57919016 0.63625491 0.69075688 0.73842474\n",
      " 0.72065607 0.73176149 0.72253545 0.75175124 0.77618315 0.72338971\n",
      " 0.51307022 0.44677943 0.388177   0.60157184 0.25474116 0.09994874\n",
      " 0.06167777 0.00495472 0.         0.01862293 0.07978814 0.14351615\n",
      " 0.28481121 0.43516146 0.5750897  0.63454639 0.63488245 0.63297254]\n",
      "predicted : [[0.6328237]]\n",
      "[0.83000171 0.94020161 1.         0.91576969 0.81479583 0.67503844\n",
      " 0.54724073 0.46523151 0.40628737 0.54826585 0.23885187 0.09089356\n",
      " 0.03229113 0.00410046 0.01537673 0.06970784 0.17495302 0.29062019\n",
      " 0.46779429 0.57919016 0.63625491 0.69075688 0.73842474 0.72065607\n",
      " 0.73176149 0.72253545 0.75175124 0.77618315 0.72338971 0.51307022\n",
      " 0.44677943 0.388177   0.60157184 0.25474116 0.09994874 0.06167777\n",
      " 0.00495472 0.         0.01862293 0.07978814 0.14351615 0.28481121\n",
      " 0.43516146 0.5750897  0.63454639 0.63488245 0.63297254 0.63282371]\n",
      "predicted : [[0.62834305]]\n",
      "[0.94020161 1.         0.91576969 0.81479583 0.67503844 0.54724073\n",
      " 0.46523151 0.40628737 0.54826585 0.23885187 0.09089356 0.03229113\n",
      " 0.00410046 0.01537673 0.06970784 0.17495302 0.29062019 0.46779429\n",
      " 0.57919016 0.63625491 0.69075688 0.73842474 0.72065607 0.73176149\n",
      " 0.72253545 0.75175124 0.77618315 0.72338971 0.51307022 0.44677943\n",
      " 0.388177   0.60157184 0.25474116 0.09994874 0.06167777 0.00495472\n",
      " 0.         0.01862293 0.07978814 0.14351615 0.28481121 0.43516146\n",
      " 0.5750897  0.63454639 0.63488245 0.63297254 0.63282371 0.62834305]\n",
      "predicted : [[0.6149764]]\n",
      "[1.         0.91576969 0.81479583 0.67503844 0.54724073 0.46523151\n",
      " 0.40628737 0.54826585 0.23885187 0.09089356 0.03229113 0.00410046\n",
      " 0.01537673 0.06970784 0.17495302 0.29062019 0.46779429 0.57919016\n",
      " 0.63625491 0.69075688 0.73842474 0.72065607 0.73176149 0.72253545\n",
      " 0.75175124 0.77618315 0.72338971 0.51307022 0.44677943 0.388177\n",
      " 0.60157184 0.25474116 0.09994874 0.06167777 0.00495472 0.\n",
      " 0.01862293 0.07978814 0.14351615 0.28481121 0.43516146 0.5750897\n",
      " 0.63454639 0.63488245 0.63297254 0.63282371 0.62834305 0.61497641]\n",
      "predicted : [[0.59612036]]\n",
      "[0.91576969 0.81479583 0.67503844 0.54724073 0.46523151 0.40628737\n",
      " 0.54826585 0.23885187 0.09089356 0.03229113 0.00410046 0.01537673\n",
      " 0.06970784 0.17495302 0.29062019 0.46779429 0.57919016 0.63625491\n",
      " 0.69075688 0.73842474 0.72065607 0.73176149 0.72253545 0.75175124\n",
      " 0.77618315 0.72338971 0.51307022 0.44677943 0.388177   0.60157184\n",
      " 0.25474116 0.09994874 0.06167777 0.00495472 0.         0.01862293\n",
      " 0.07978814 0.14351615 0.28481121 0.43516146 0.5750897  0.63454639\n",
      " 0.63488245 0.63297254 0.63282371 0.62834305 0.61497641 0.59612036]\n",
      "predicted : [[0.5755713]]\n",
      "[0.81479583 0.67503844 0.54724073 0.46523151 0.40628737 0.54826585\n",
      " 0.23885187 0.09089356 0.03229113 0.00410046 0.01537673 0.06970784\n",
      " 0.17495302 0.29062019 0.46779429 0.57919016 0.63625491 0.69075688\n",
      " 0.73842474 0.72065607 0.73176149 0.72253545 0.75175124 0.77618315\n",
      " 0.72338971 0.51307022 0.44677943 0.388177   0.60157184 0.25474116\n",
      " 0.09994874 0.06167777 0.00495472 0.         0.01862293 0.07978814\n",
      " 0.14351615 0.28481121 0.43516146 0.5750897  0.63454639 0.63488245\n",
      " 0.63297254 0.63282371 0.62834305 0.61497641 0.59612036 0.5755713 ]\n",
      "predicted : [[0.5478579]]\n",
      "[0.67503844 0.54724073 0.46523151 0.40628737 0.54826585 0.23885187\n",
      " 0.09089356 0.03229113 0.00410046 0.01537673 0.06970784 0.17495302\n",
      " 0.29062019 0.46779429 0.57919016 0.63625491 0.69075688 0.73842474\n",
      " 0.72065607 0.73176149 0.72253545 0.75175124 0.77618315 0.72338971\n",
      " 0.51307022 0.44677943 0.388177   0.60157184 0.25474116 0.09994874\n",
      " 0.06167777 0.00495472 0.         0.01862293 0.07978814 0.14351615\n",
      " 0.28481121 0.43516146 0.5750897  0.63454639 0.63488245 0.63297254\n",
      " 0.63282371 0.62834305 0.61497641 0.59612036 0.5755713  0.54785788]\n",
      "predicted : [[0.50682527]]\n",
      "[0.54724073 0.46523151 0.40628737 0.54826585 0.23885187 0.09089356\n",
      " 0.03229113 0.00410046 0.01537673 0.06970784 0.17495302 0.29062019\n",
      " 0.46779429 0.57919016 0.63625491 0.69075688 0.73842474 0.72065607\n",
      " 0.73176149 0.72253545 0.75175124 0.77618315 0.72338971 0.51307022\n",
      " 0.44677943 0.388177   0.60157184 0.25474116 0.09994874 0.06167777\n",
      " 0.00495472 0.         0.01862293 0.07978814 0.14351615 0.28481121\n",
      " 0.43516146 0.5750897  0.63454639 0.63488245 0.63297254 0.63282371\n",
      " 0.62834305 0.61497641 0.59612036 0.5755713  0.54785788 0.50682527]\n",
      "predicted : [[0.45568267]]\n",
      "[0.46523151 0.40628737 0.54826585 0.23885187 0.09089356 0.03229113\n",
      " 0.00410046 0.01537673 0.06970784 0.17495302 0.29062019 0.46779429\n",
      " 0.57919016 0.63625491 0.69075688 0.73842474 0.72065607 0.73176149\n",
      " 0.72253545 0.75175124 0.77618315 0.72338971 0.51307022 0.44677943\n",
      " 0.388177   0.60157184 0.25474116 0.09994874 0.06167777 0.00495472\n",
      " 0.         0.01862293 0.07978814 0.14351615 0.28481121 0.43516146\n",
      " 0.5750897  0.63454639 0.63488245 0.63297254 0.63282371 0.62834305\n",
      " 0.61497641 0.59612036 0.5755713  0.54785788 0.50682527 0.45568267]\n"
     ]
    }
   ],
   "source": [
    "uni = df['traffic_volume']\n",
    "validatehorizonte = uni.tail(48)\n",
    "validatehistory = validatehorizonte.values\n",
    "result = []\n",
    "\n",
    "#Definição do tamanho do forecast\n",
    "\n",
    "window_len = 10\n",
    "\n",
    "val_rescaled = scaler_x.fit_transform(validatehistory.reshape(-1,1))\n",
    "\n",
    "for i in range(1, window_len + 1):\n",
    "    val_rescaled = val_rescaled.reshape((1, val_rescaled.shape[0],1))\n",
    "    Predicted_results = lstm_model.predict(val_rescaled)\n",
    "    print(f'predicted : {Predicted_results}')\n",
    "    result.append(Predicted_results[0])\n",
    "    val_rescaled = np.append(   val_rescaled[:,1:],\n",
    "                                [[Predicted_results]])\n",
    "    print(val_rescaled) \n"
   ]
  },
  {
   "cell_type": "code",
   "execution_count": 70,
   "metadata": {},
   "outputs": [
    {
     "data": {
      "text/plain": [
       "array([[4050.96698046],\n",
       "       [4039.78826767],\n",
       "       [4038.91714931],\n",
       "       [4012.69184655],\n",
       "       [3934.45690489],\n",
       "       [3824.09245253],\n",
       "       [3703.8188107 ],\n",
       "       [3541.61217511],\n",
       "       [3301.44829518],\n",
       "       [3002.11063889]])"
      ]
     },
     "execution_count": 70,
     "metadata": {},
     "output_type": "execute_result"
    }
   ],
   "source": [
    "result_inv_trans = scaler_x.inverse_transform(result)\n",
    "result_inv_trans"
   ]
  },
  {
   "cell_type": "code",
   "execution_count": 71,
   "metadata": {},
   "outputs": [],
   "source": [
    "from sklearn import metrics\n",
    "\n",
    "def timeseries_evaluation_metrics_func(y_true, y_pred):\n",
    "    def mean_absolute_percentage_error(y_true,y_pred):\n",
    "        y_true, y_pred = np.array(y_true), np.array(y_pred)\n",
    "        return np.mean(np.abs((y_true-y_pred)/y_pred))*100\n",
    "    print('Evaluation metric results:-')\n",
    "    print(f'MSE is: {metrics.mean_squared_error(y_true,y_pred)}')\n",
    "    print(f'MAE is: {metrics.mean_absolute_error(y_true,y_pred)}')\n",
    "    print(f'RMSE is: {np.sqrt(metrics.mean_squared_error(y_true,y_pred))}')\n",
    "    print(f'MAPE is: {mean_absolute_percentage_error(y_true,y_pred)}')\n",
    "    print(f'R^2 is: {metrics.r2_score(y_true,y_pred)}', end='\\n\\n')"
   ]
  },
  {
   "cell_type": "code",
   "execution_count": 72,
   "metadata": {},
   "outputs": [
    {
     "name": "stdout",
     "output_type": "stream",
     "text": [
      "Evaluation metric results:-\n",
      "MSE is: 1093898.2837830265\n",
      "MAE is: 774.7261223524808\n",
      "RMSE is: 1045.8959239728524\n",
      "MAPE is: 28.850541032287857\n",
      "R^2 is: 0.2898247688831572\n",
      "\n"
     ]
    }
   ],
   "source": [
    "timeseries_evaluation_metrics_func(validate, result_inv_trans)"
   ]
  },
  {
   "cell_type": "code",
   "execution_count": 73,
   "metadata": {},
   "outputs": [
    {
     "data": {
      "image/png": "[encoded data removed]",
      "text/plain": [
       "<Figure size 1152x648 with 1 Axes>"
      ]
     },
     "metadata": {
      "needs_background": "light"
     },
     "output_type": "display_data"
    }
   ],
   "source": [
    "plt.plot(list(validate))\n",
    "plt.plot(list(result_inv_trans))\n",
    "plt.title('Actual vs predicted')\n",
    "plt.ylabel('Traffic volume')\n",
    "plt.legend(('Actual','Predicted'))\n",
    "plt.show()"
   ]
  }
 ],
 "metadata": {
  "kernelspec": {
   "display_name": "Python 3.8.10 64-bit",
   "language": "python",
   "name": "python3"
  },
  "language_info": {
   "codemirror_mode": {
    "name": "ipython",
    "version": 3
   },
   "file_extension": ".py",
   "mimetype": "text/x-python",
   "name": "python",
   "nbconvert_exporter": "python",
   "pygments_lexer": "ipython3",
   "version": "3.8.10"
  },
  "orig_nbformat": 4,
  "vscode": {
   "interpreter": {
    "hash": "35df17615a3d321e8bd3bbbc713a53a8cda66b7166292291c5678c7e1084f032"
   }
  }
 },
 "nbformat": 4,
 "nbformat_minor": 2
}
